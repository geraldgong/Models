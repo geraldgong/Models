{
 "cells": [
  {
   "cell_type": "code",
   "execution_count": 4,
   "metadata": {
    "ExecuteTime": {
     "end_time": "2021-01-24T10:05:18.737709Z",
     "start_time": "2021-01-24T10:05:18.734891Z"
    }
   },
   "outputs": [],
   "source": [
    "import json\n",
    "import tensorflow as tf\n",
    "import csv\n",
    "import random\n",
    "import numpy as np\n",
    "\n",
    "from tensorflow.keras.preprocessing.sequence import pad_sequences\n",
    "from tensorflow.keras.layers import Embedding, LSTM, Dense, Bidirectional\n",
    "from tensorflow.keras.preprocessing.text import Tokenizer\n",
    "from tensorflow.keras.models import Sequential\n",
    "from tensorflow.keras.optimizers import Adam\n",
    "import tensorflow_datasets as tfds"
   ]
  },
  {
   "cell_type": "code",
   "execution_count": 5,
   "metadata": {
    "ExecuteTime": {
     "end_time": "2021-01-24T10:05:28.793501Z",
     "start_time": "2021-01-24T10:05:28.791292Z"
    }
   },
   "outputs": [],
   "source": [
    "embedding_dim = 100\n",
    "max_length = 16\n",
    "trunc_type='post'\n",
    "padding_type='post'\n",
    "oov_tok = \"<OOV>\"\n",
    "training_size=160000\n",
    "test_portion=.1\n",
    "\n",
    "corpus = []"
   ]
  },
  {
   "cell_type": "code",
   "execution_count": 7,
   "metadata": {
    "ExecuteTime": {
     "end_time": "2021-01-24T10:06:03.055734Z",
     "start_time": "2021-01-24T10:05:59.854077Z"
    }
   },
   "outputs": [],
   "source": [
    "num_sentences = 0\n",
    "\n",
    "with open(\"../Data/training_cleaned.csv\") as csvfile:\n",
    "    reader = csv.reader(csvfile, delimiter=',')\n",
    "    for row in reader:\n",
    "        list_item=[]\n",
    "        list_item.append(row[5])\n",
    "        this_label=row[0]\n",
    "        if this_label=='0':\n",
    "            list_item.append(0)\n",
    "        else:\n",
    "            list_item.append(1)\n",
    "        num_sentences = num_sentences + 1\n",
    "        corpus.append(list_item)"
   ]
  },
  {
   "cell_type": "code",
   "execution_count": 88,
   "metadata": {
    "ExecuteTime": {
     "end_time": "2021-01-24T20:14:26.510744Z",
     "start_time": "2021-01-24T20:14:26.508092Z"
    }
   },
   "outputs": [
    {
     "data": {
      "text/plain": [
       "160000"
      ]
     },
     "execution_count": 88,
     "metadata": {},
     "output_type": "execute_result"
    }
   ],
   "source": [
    "len(sentences)"
   ]
  },
  {
   "cell_type": "code",
   "execution_count": 36,
   "metadata": {
    "ExecuteTime": {
     "end_time": "2021-01-24T16:03:46.870090Z",
     "start_time": "2021-01-24T16:03:46.047116Z"
    }
   },
   "outputs": [],
   "source": [
    "sentences=[]\n",
    "labels=[]\n",
    "random.shuffle(corpus)\n",
    "for x in range(training_size):\n",
    "    sentences.append(corpus[x][0])\n",
    "    labels.append(corpus[x][1])"
   ]
  },
  {
   "cell_type": "code",
   "execution_count": 61,
   "metadata": {
    "ExecuteTime": {
     "end_time": "2021-01-24T16:13:17.594738Z",
     "start_time": "2021-01-24T16:13:13.828033Z"
    }
   },
   "outputs": [],
   "source": [
    "tokenizer = Tokenizer()\n",
    "tokenizer.fit_on_texts(sentences)\n",
    "\n",
    "word_index = tokenizer.word_index\n",
    "vocab_size=len(word_index)\n",
    "\n",
    "sequences = tokenizer.texts_to_sequences(sentences)\n",
    "\n",
    "#remove values from sequences larger than maxlen\n",
    "padded = pad_sequences(sequences, maxlen=max_length, padding=padding_type, truncating=trunc_type)\n",
    "\n",
    "split = int(test_portion * training_size)\n",
    "\n",
    "test_sequences = padded[0:split]\n",
    "training_sequences = padded[split:training_size]\n",
    "test_labels = labels[0:split]\n",
    "training_labels = labels[split:training_size]"
   ]
  },
  {
   "cell_type": "code",
   "execution_count": 87,
   "metadata": {
    "ExecuteTime": {
     "end_time": "2021-01-24T19:58:31.983937Z",
     "start_time": "2021-01-24T19:58:31.979883Z"
    }
   },
   "outputs": [
    {
     "data": {
      "text/plain": [
       "160000"
      ]
     },
     "execution_count": 87,
     "metadata": {},
     "output_type": "execute_result"
    }
   ],
   "source": [
    "len(sequences)"
   ]
  },
  {
   "cell_type": "code",
   "execution_count": 77,
   "metadata": {
    "ExecuteTime": {
     "end_time": "2021-01-24T19:21:49.177273Z",
     "start_time": "2021-01-24T19:21:42.407746Z"
    }
   },
   "outputs": [],
   "source": [
    "embeddings_index = {}\n",
    "with open('../Data/glove.6B.100d.txt') as f:\n",
    "    for line in f:\n",
    "        values = line.split()\n",
    "        word = values[0]\n",
    "        coefs = np.asarray(values[1:], dtype='float32')\n",
    "        embeddings_index[word] = coefs"
   ]
  },
  {
   "cell_type": "code",
   "execution_count": 80,
   "metadata": {
    "ExecuteTime": {
     "end_time": "2021-01-24T19:22:47.272266Z",
     "start_time": "2021-01-24T19:22:47.177598Z"
    }
   },
   "outputs": [],
   "source": [
    "embeddings_matrix = np.zeros((vocab_size+1, embedding_dim));\n",
    "for word, i in word_index.items():\n",
    "    embedding_vector = embeddings_index.get(word);\n",
    "    if embedding_vector is not None:\n",
    "        embeddings_matrix[i] = embedding_vector;"
   ]
  },
  {
   "cell_type": "code",
   "execution_count": 81,
   "metadata": {
    "ExecuteTime": {
     "end_time": "2021-01-24T19:22:59.056178Z",
     "start_time": "2021-01-24T19:22:59.051819Z"
    }
   },
   "outputs": [
    {
     "data": {
      "text/plain": [
       "(138917, 100)"
      ]
     },
     "execution_count": 81,
     "metadata": {},
     "output_type": "execute_result"
    }
   ],
   "source": [
    "embeddings_matrix.shape"
   ]
  },
  {
   "cell_type": "code",
   "execution_count": 83,
   "metadata": {
    "ExecuteTime": {
     "end_time": "2021-01-24T19:31:49.613394Z",
     "start_time": "2021-01-24T19:24:33.771731Z"
    },
    "scrolled": false
   },
   "outputs": [
    {
     "name": "stdout",
     "output_type": "stream",
     "text": [
      "Model: \"sequential\"\n",
      "_________________________________________________________________\n",
      "Layer (type)                 Output Shape              Param #   \n",
      "=================================================================\n",
      "embedding (Embedding)        (None, 16, 100)           13891700  \n",
      "_________________________________________________________________\n",
      "dropout (Dropout)            (None, 16, 100)           0         \n",
      "_________________________________________________________________\n",
      "conv1d (Conv1D)              (None, 12, 64)            32064     \n",
      "_________________________________________________________________\n",
      "max_pooling1d (MaxPooling1D) (None, 3, 64)             0         \n",
      "_________________________________________________________________\n",
      "lstm (LSTM)                  (None, 64)                33024     \n",
      "_________________________________________________________________\n",
      "dense (Dense)                (None, 1)                 65        \n",
      "=================================================================\n",
      "Total params: 13,956,853\n",
      "Trainable params: 65,153\n",
      "Non-trainable params: 13,891,700\n",
      "_________________________________________________________________\n",
      "Epoch 1/50\n",
      "4500/4500 - 9s - loss: 0.5672 - accuracy: 0.6996 - val_loss: 0.5180 - val_accuracy: 0.7399\n",
      "Epoch 2/50\n",
      "4500/4500 - 9s - loss: 0.5296 - accuracy: 0.7301 - val_loss: 0.5098 - val_accuracy: 0.7474\n",
      "Epoch 3/50\n",
      "4500/4500 - 9s - loss: 0.5138 - accuracy: 0.7418 - val_loss: 0.5029 - val_accuracy: 0.7503\n",
      "Epoch 4/50\n",
      "4500/4500 - 9s - loss: 0.5035 - accuracy: 0.7496 - val_loss: 0.4991 - val_accuracy: 0.7491\n",
      "Epoch 5/50\n",
      "4500/4500 - 9s - loss: 0.4931 - accuracy: 0.7565 - val_loss: 0.5010 - val_accuracy: 0.7502\n",
      "Epoch 6/50\n",
      "4500/4500 - 9s - loss: 0.4864 - accuracy: 0.7618 - val_loss: 0.4949 - val_accuracy: 0.7557\n",
      "Epoch 7/50\n",
      "4500/4500 - 9s - loss: 0.4795 - accuracy: 0.7649 - val_loss: 0.5027 - val_accuracy: 0.7529\n",
      "Epoch 8/50\n",
      "4500/4500 - 9s - loss: 0.4746 - accuracy: 0.7690 - val_loss: 0.4980 - val_accuracy: 0.7519\n",
      "Epoch 9/50\n",
      "4500/4500 - 9s - loss: 0.4711 - accuracy: 0.7704 - val_loss: 0.4943 - val_accuracy: 0.7540\n",
      "Epoch 10/50\n",
      "4500/4500 - 9s - loss: 0.4661 - accuracy: 0.7741 - val_loss: 0.4980 - val_accuracy: 0.7556\n",
      "Epoch 11/50\n",
      "4500/4500 - 9s - loss: 0.4626 - accuracy: 0.7753 - val_loss: 0.5053 - val_accuracy: 0.7516\n",
      "Epoch 12/50\n",
      "4500/4500 - 9s - loss: 0.4597 - accuracy: 0.7772 - val_loss: 0.4987 - val_accuracy: 0.7539\n",
      "Epoch 13/50\n",
      "4500/4500 - 9s - loss: 0.4579 - accuracy: 0.7789 - val_loss: 0.4983 - val_accuracy: 0.7517\n",
      "Epoch 14/50\n",
      "4500/4500 - 9s - loss: 0.4551 - accuracy: 0.7801 - val_loss: 0.5016 - val_accuracy: 0.7542\n",
      "Epoch 15/50\n",
      "4500/4500 - 9s - loss: 0.4530 - accuracy: 0.7813 - val_loss: 0.4999 - val_accuracy: 0.7573\n",
      "Epoch 16/50\n",
      "4500/4500 - 9s - loss: 0.4502 - accuracy: 0.7831 - val_loss: 0.5015 - val_accuracy: 0.7539\n",
      "Epoch 17/50\n",
      "4500/4500 - 9s - loss: 0.4484 - accuracy: 0.7841 - val_loss: 0.5125 - val_accuracy: 0.7499\n",
      "Epoch 18/50\n",
      "4500/4500 - 9s - loss: 0.4477 - accuracy: 0.7853 - val_loss: 0.5157 - val_accuracy: 0.7499\n",
      "Epoch 19/50\n",
      "4500/4500 - 9s - loss: 0.4455 - accuracy: 0.7850 - val_loss: 0.5100 - val_accuracy: 0.7520\n",
      "Epoch 20/50\n",
      "4500/4500 - 9s - loss: 0.4456 - accuracy: 0.7855 - val_loss: 0.5028 - val_accuracy: 0.7505\n",
      "Epoch 21/50\n",
      "4500/4500 - 9s - loss: 0.4442 - accuracy: 0.7863 - val_loss: 0.5077 - val_accuracy: 0.7529\n",
      "Epoch 22/50\n",
      "4500/4500 - 9s - loss: 0.4431 - accuracy: 0.7872 - val_loss: 0.5085 - val_accuracy: 0.7535\n",
      "Epoch 23/50\n",
      "4500/4500 - 9s - loss: 0.4412 - accuracy: 0.7889 - val_loss: 0.5093 - val_accuracy: 0.7536\n",
      "Epoch 24/50\n",
      "4500/4500 - 9s - loss: 0.4396 - accuracy: 0.7903 - val_loss: 0.5072 - val_accuracy: 0.7517\n",
      "Epoch 25/50\n",
      "4500/4500 - 9s - loss: 0.4388 - accuracy: 0.7894 - val_loss: 0.5089 - val_accuracy: 0.7514\n",
      "Epoch 26/50\n",
      "4500/4500 - 9s - loss: 0.4376 - accuracy: 0.7911 - val_loss: 0.5137 - val_accuracy: 0.7515\n",
      "Epoch 27/50\n",
      "4500/4500 - 9s - loss: 0.4382 - accuracy: 0.7897 - val_loss: 0.5107 - val_accuracy: 0.7534\n",
      "Epoch 28/50\n",
      "4500/4500 - 9s - loss: 0.4373 - accuracy: 0.7905 - val_loss: 0.5125 - val_accuracy: 0.7552\n",
      "Epoch 29/50\n",
      "4500/4500 - 9s - loss: 0.4352 - accuracy: 0.7915 - val_loss: 0.5122 - val_accuracy: 0.7499\n",
      "Epoch 30/50\n",
      "4500/4500 - 9s - loss: 0.4348 - accuracy: 0.7914 - val_loss: 0.5125 - val_accuracy: 0.7491\n",
      "Epoch 31/50\n",
      "4500/4500 - 9s - loss: 0.4344 - accuracy: 0.7930 - val_loss: 0.5173 - val_accuracy: 0.7491\n",
      "Epoch 32/50\n",
      "4500/4500 - 9s - loss: 0.4351 - accuracy: 0.7929 - val_loss: 0.5114 - val_accuracy: 0.7483\n",
      "Epoch 33/50\n",
      "4500/4500 - 9s - loss: 0.4338 - accuracy: 0.7928 - val_loss: 0.5134 - val_accuracy: 0.7511\n",
      "Epoch 34/50\n",
      "4500/4500 - 9s - loss: 0.4338 - accuracy: 0.7931 - val_loss: 0.5149 - val_accuracy: 0.7544\n",
      "Epoch 35/50\n",
      "4500/4500 - 9s - loss: 0.4330 - accuracy: 0.7927 - val_loss: 0.5082 - val_accuracy: 0.7513\n",
      "Epoch 36/50\n",
      "4500/4500 - 9s - loss: 0.4335 - accuracy: 0.7925 - val_loss: 0.5142 - val_accuracy: 0.7526\n",
      "Epoch 37/50\n",
      "4500/4500 - 9s - loss: 0.4315 - accuracy: 0.7938 - val_loss: 0.5110 - val_accuracy: 0.7484\n",
      "Epoch 38/50\n",
      "4500/4500 - 9s - loss: 0.4327 - accuracy: 0.7943 - val_loss: 0.5155 - val_accuracy: 0.7527\n",
      "Epoch 39/50\n",
      "4500/4500 - 9s - loss: 0.4311 - accuracy: 0.7949 - val_loss: 0.5144 - val_accuracy: 0.7492\n",
      "Epoch 40/50\n",
      "4500/4500 - 9s - loss: 0.4312 - accuracy: 0.7953 - val_loss: 0.5148 - val_accuracy: 0.7538\n",
      "Epoch 41/50\n",
      "4500/4500 - 9s - loss: 0.4308 - accuracy: 0.7951 - val_loss: 0.5109 - val_accuracy: 0.7553\n",
      "Epoch 42/50\n",
      "4500/4500 - 9s - loss: 0.4285 - accuracy: 0.7962 - val_loss: 0.5181 - val_accuracy: 0.7533\n",
      "Epoch 43/50\n",
      "4500/4500 - 9s - loss: 0.4300 - accuracy: 0.7959 - val_loss: 0.5147 - val_accuracy: 0.7495\n",
      "Epoch 44/50\n",
      "4500/4500 - 9s - loss: 0.4286 - accuracy: 0.7963 - val_loss: 0.5149 - val_accuracy: 0.7545\n",
      "Epoch 45/50\n",
      "4500/4500 - 9s - loss: 0.4285 - accuracy: 0.7955 - val_loss: 0.5162 - val_accuracy: 0.7519\n",
      "Epoch 46/50\n",
      "4500/4500 - 9s - loss: 0.4284 - accuracy: 0.7970 - val_loss: 0.5189 - val_accuracy: 0.7498\n",
      "Epoch 47/50\n",
      "4500/4500 - 9s - loss: 0.4274 - accuracy: 0.7969 - val_loss: 0.5175 - val_accuracy: 0.7517\n",
      "Epoch 48/50\n",
      "4500/4500 - 9s - loss: 0.4301 - accuracy: 0.7960 - val_loss: 0.5180 - val_accuracy: 0.7492\n",
      "Epoch 49/50\n",
      "4500/4500 - 9s - loss: 0.4283 - accuracy: 0.7960 - val_loss: 0.5200 - val_accuracy: 0.7504\n",
      "Epoch 50/50\n",
      "4500/4500 - 9s - loss: 0.4278 - accuracy: 0.7962 - val_loss: 0.5201 - val_accuracy: 0.7561\n",
      "Training Complete\n"
     ]
    }
   ],
   "source": [
    "model = tf.keras.Sequential([\n",
    "    tf.keras.layers.Embedding(vocab_size + 1,\n",
    "                              embedding_dim,\n",
    "                              input_length=max_length,\n",
    "                              weights=[embeddings_matrix],\n",
    "                              trainable=False),\n",
    "    tf.keras.layers.Dropout(0.2),\n",
    "    tf.keras.layers.Conv1D(64, 5, activation='relu'),\n",
    "    tf.keras.layers.MaxPooling1D(pool_size=4),\n",
    "    tf.keras.layers.LSTM(64),\n",
    "    tf.keras.layers.Dense(1, activation='sigmoid')\n",
    "])\n",
    "model.compile(loss='binary_crossentropy',\n",
    "              optimizer='adam',\n",
    "              metrics=['accuracy'])\n",
    "model.summary()\n",
    "\n",
    "num_epochs = 50\n",
    "\n",
    "training_padded = np.array(training_sequences)\n",
    "training_labels = np.array(training_labels)\n",
    "testing_padded = np.array(test_sequences)\n",
    "testing_labels = np.array(test_labels)\n",
    "\n",
    "history = model.fit(training_padded,\n",
    "                    training_labels,\n",
    "                    epochs=num_epochs,\n",
    "                    validation_data=(testing_padded, testing_labels),\n",
    "                    verbose=2)\n",
    "\n",
    "print(\"Training Complete\")"
   ]
  }
 ],
 "metadata": {
  "kernelspec": {
   "display_name": "conda-env-models",
   "language": "python",
   "name": "conda-env-models"
  },
  "language_info": {
   "codemirror_mode": {
    "name": "ipython",
    "version": 3
   },
   "file_extension": ".py",
   "mimetype": "text/x-python",
   "name": "python",
   "nbconvert_exporter": "python",
   "pygments_lexer": "ipython3",
   "version": "3.8.5"
  },
  "toc": {
   "base_numbering": 1,
   "nav_menu": {},
   "number_sections": true,
   "sideBar": true,
   "skip_h1_title": false,
   "title_cell": "Table of Contents",
   "title_sidebar": "Contents",
   "toc_cell": false,
   "toc_position": {},
   "toc_section_display": true,
   "toc_window_display": false
  }
 },
 "nbformat": 4,
 "nbformat_minor": 4
}
